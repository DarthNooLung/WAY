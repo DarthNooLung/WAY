{
 "cells": [
  {
   "cell_type": "code",
   "execution_count": null,
   "metadata": {},
   "outputs": [],
   "source": [
    "\"\"\"\n",
    "※ 참고 사이트\n",
    "- 얼굴 인식하여 잠금 해제\n",
    "    https://blog.naver.com/chandong83/221695462391\n",
    "\"\"\""
   ]
  },
  {
   "cell_type": "code",
   "execution_count": 1,
   "metadata": {},
   "outputs": [],
   "source": [
    "import cv2\n",
    "import numpy as np\n",
    "from os import listdir\n",
    "from os.path import isdir, isfile, join"
   ]
  },
  {
   "cell_type": "code",
   "execution_count": 12,
   "metadata": {},
   "outputs": [],
   "source": [
    "face_path = './98_LearningData/04_StudyData/MultiFace/'\n",
    "train_path = './98_LearningData/51_Learning_Data/01_OpenCv/MultiFace/'\n",
    "face_cascades = cv2.CascadeClassifier('./98_LearningData/00_haarcascades/haarcascade_frontalface_default.xml')\n",
    "eye_cascades = cv2.CascadeClassifier('./98_LearningData/00_haarcascades/haarcascade_lefteye_2splits.xml')"
   ]
  },
  {
   "cell_type": "code",
   "execution_count": 13,
   "metadata": {},
   "outputs": [],
   "source": [
    "# 사용자 얼굴 학습\n",
    "def train(name):\n",
    "    # 모델 생성\n",
    "    model = cv2.face.LBPHFaceRecognizer_create()\n",
    "    \n",
    "    #학습한 파일이 있는지 체크\n",
    "    if isfile(join(train_path, name + '.yml')):\n",
    "        model.read(join(train_path, name + '.yml'))\n",
    "        print(\"Train data exists!!\")\n",
    "    #학습한 파일이 없을 경우\n",
    "    else:    \n",
    "        data_path = face_path + name + '/'\n",
    "        #파일만 리스트로 만듬\n",
    "        face_pics = [f for f in listdir(data_path) if isfile(join(data_path,f))]\n",
    "\n",
    "        Training_Data, Labels = [], []\n",
    "\n",
    "        for i, files in enumerate(face_pics):\n",
    "            image_path = data_path + face_pics[i]\n",
    "            images = cv2.imread(image_path, cv2.IMREAD_GRAYSCALE)\n",
    "            # 이미지가 아니면 패스\n",
    "            if images is None:\n",
    "                continue    \n",
    "            Training_Data.append(np.asarray(images, dtype=np.uint8))\n",
    "            Labels.append(i)\n",
    "            \n",
    "        if len(Labels) == 0:\n",
    "            print(\"There is no data to train.\")\n",
    "            return None\n",
    "        Labels = np.asarray(Labels, dtype=np.int32)\n",
    "        \n",
    "        # 학습\n",
    "        model.train(np.asarray(Training_Data), np.asarray(Labels))\n",
    "        #학습 저장\n",
    "        model.save(join(train_path, name + '.yml'))\n",
    "        print(name + \" : Model Training Complete!!!!!\")\n",
    "\n",
    "    #학습 모델 리턴\n",
    "    return model"
   ]
  },
  {
   "cell_type": "code",
   "execution_count": 8,
   "metadata": {},
   "outputs": [],
   "source": [
    "# 여러 사용자 학습\n",
    "def trains():\n",
    "    # 폴더만 색출\n",
    "    model_dirs = [f for f in listdir(face_path) if isdir(join(face_path,f))]\n",
    "    \n",
    "    #학습 모델 저장할 딕셔너리\n",
    "    models = {}\n",
    "    # 각 폴더에 있는 얼굴들 학습\n",
    "    for model in model_dirs:\n",
    "        print('model :' + model)\n",
    "        \n",
    "        # 학습 시작\n",
    "        result = train(model)\n",
    "        \n",
    "        # 학습이 안되었다면 패스!\n",
    "        if result is None:\n",
    "            continue\n",
    "            \n",
    "        # 학습되었으면 저장\n",
    "        models[model] = result\n",
    "\n",
    "    # 학습된 모델 딕셔너리 리턴\n",
    "    return models  "
   ]
  },
  {
   "cell_type": "code",
   "execution_count": 16,
   "metadata": {},
   "outputs": [],
   "source": [
    "#얼굴 검출\n",
    "def face_detector(img, size = 0.5):\n",
    "    #이미지를 흑백으로 변경\n",
    "    grayscale_img = cv2.cvtColor(img, cv2.COLOR_BGR2GRAY)\n",
    "    \n",
    "    #얼굴 검출\n",
    "    faces = face_cascades.detectMultiScale(grayscale_img, scaleFactor=1.1, minNeighbors=5, minSize=(100,100), flags=cv2.CASCADE_SCALE_IMAGE)\n",
    "    \n",
    "    if faces is():\n",
    "        return img,[]\n",
    "    \n",
    "    for(x,y,w,h) in faces:\n",
    "        #눈을 추려내기 위해서 이미지 크롭\n",
    "        img_trim = img[y:y+h, x:x+w]\n",
    "        \n",
    "        #눈 추려내기\n",
    "        eye_list = eye_cascades.detectMultiScale(img_trim,scaleFactor = 1.15, minNeighbors=1,minSize=(10,10))\n",
    "        \n",
    "        #눈이 있으면서 2개 이상)\n",
    "        if len(eye_list) >= 2:\n",
    "            #얼굴에 네모 표기하기\n",
    "            cv2.rectangle(img, (x,y),(x+w,y+h),(0,255,255),2)\n",
    "\n",
    "            #눈에 네모 표기 하기(눈에표기하면 인식 안됨 네모도 얼굴의 일부로 인식)\n",
    "            #for eye in eye_list:\n",
    "                #eyeX,eyeY,eyeW,eyeH = eye\n",
    "                #cv2.rectangle(img, (eyeX + x, eyeY + y), (eyeX + eyeW + x, eyeY + eyeH + y), (0, 255, 0), thickness=8)\n",
    "\n",
    "            roi = img[y:y+h, x:x+w]\n",
    "            roi = cv2.resize(roi, (200,200))\n",
    "        else:\n",
    "            return img,[]\n",
    "    return img,roi   #검출된 좌표에 사각 박스 그리고(img), 검출된 부위를 잘라(roi) 전달\n"
   ]
  },
  {
   "cell_type": "code",
   "execution_count": 17,
   "metadata": {},
   "outputs": [],
   "source": [
    "# 인식 시작\n",
    "def run(models):    \n",
    "    #카메라 열기 \n",
    "    cap = cv2.VideoCapture(0)\n",
    "    \n",
    "    while True:\n",
    "        #카메라로 부터 사진 한장 읽기 \n",
    "        ret, frame = cap.read()\n",
    "        # 얼굴 검출 시도 \n",
    "        image, face = face_detector(frame)\n",
    "        try:            \n",
    "            min_score = 999       #가장 낮은 점수로 예측된 사람의 점수\n",
    "            min_score_name = \"\"   #가장 높은 점수로 예측된 사람의 이름\n",
    "            \n",
    "            #검출된 사진을 흑백으로 변환 \n",
    "            face = cv2.cvtColor(face, cv2.COLOR_BGR2GRAY)\n",
    "\n",
    "            #위에서 학습한 모델로 예측시도 - 제일 낮은 사람의 결과를 가져오기 위한 부분\n",
    "            for key, model in models.items():\n",
    "                result = model.predict(face)                \n",
    "                if min_score > result[1]:\n",
    "                    min_score = result[1]\n",
    "                    min_score_name = key\n",
    "                    \n",
    "            #min_score 신뢰도이고 0에 가까울수록 자신과 같다는 뜻이다.         \n",
    "            if min_score < 500:\n",
    "                #% 처리하기 위함\n",
    "                confidence = int(100*(1-(min_score)/300))\n",
    "                # 유사도 화면에 표시 \n",
    "                display_string = str(confidence)+'% Confidence it is ' + min_score_name\n",
    "            \n",
    "            #가장 높은 유사도의 값을 화면에 표시\n",
    "            cv2.putText(image,display_string,(100,120), cv2.FONT_HERSHEY_COMPLEX,1,(250,120,255),2)\n",
    "            \n",
    "            #75 보다 크면 Success\n",
    "            if confidence > 75:\n",
    "                cv2.putText(image, \"Unlocked : \" + min_score_name, (250, 450), cv2.FONT_HERSHEY_COMPLEX, 1, (0, 255, 0), 2)\n",
    "                cv2.imshow('Face Cropper', image)\n",
    "            #75 이하면 Fail\n",
    "            else:\n",
    "                cv2.putText(image, \"Locked\", (250, 450), cv2.FONT_HERSHEY_COMPLEX, 1, (0, 0, 255), 2)\n",
    "                cv2.imshow('Face Cropper', image)\n",
    "        except:\n",
    "            #얼굴 검출 안됨 \n",
    "            cv2.putText(image, \"Face Not Found\", (250, 450), cv2.FONT_HERSHEY_COMPLEX, 1, (255, 0, 0), 2)\n",
    "            cv2.imshow('Face Cropper', image)\n",
    "            pass\n",
    "        if cv2.waitKey(1)==13:\n",
    "            break\n",
    "    cap.release()\n",
    "    cv2.destroyAllWindows()"
   ]
  },
  {
   "cell_type": "code",
   "execution_count": 20,
   "metadata": {},
   "outputs": [
    {
     "name": "stdout",
     "output_type": "stream",
     "text": [
      "model :19840216\n",
      "Train data exists!!\n",
      "model2 :19840216\n",
      "model :19840902\n",
      "Train data exists!!\n",
      "model2 :19840902\n",
      "model :20120723\n",
      "Train data exists!!\n",
      "model2 :20120723\n"
     ]
    }
   ],
   "source": [
    "#__main__을 넣는 이유는 이 프로그램이 최초 실행인지 import한건지 체크하기 위함\n",
    "if __name__ == \"__main__\":\n",
    "    # 학습 시작\n",
    "    models = trains()\n",
    "    # 고!\n",
    "    run(models)"
   ]
  },
  {
   "cell_type": "code",
   "execution_count": 8,
   "metadata": {},
   "outputs": [
    {
     "name": "stdout",
     "output_type": "stream",
     "text": [
      "__main__\n"
     ]
    }
   ],
   "source": [
    "print(__name__)"
   ]
  },
  {
   "cell_type": "code",
   "execution_count": null,
   "metadata": {},
   "outputs": [],
   "source": []
  }
 ],
 "metadata": {
  "kernelspec": {
   "display_name": "Python 3",
   "language": "python",
   "name": "python3"
  },
  "language_info": {
   "codemirror_mode": {
    "name": "ipython",
    "version": 3
   },
   "file_extension": ".py",
   "mimetype": "text/x-python",
   "name": "python",
   "nbconvert_exporter": "python",
   "pygments_lexer": "ipython3",
   "version": "3.7.5"
  }
 },
 "nbformat": 4,
 "nbformat_minor": 2
}
