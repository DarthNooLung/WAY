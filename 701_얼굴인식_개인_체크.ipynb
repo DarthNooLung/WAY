{
 "cells": [
  {
   "cell_type": "code",
   "execution_count": 3,
   "metadata": {},
   "outputs": [
    {
     "data": {
      "text/plain": [
       "'#개발 '"
      ]
     },
     "execution_count": 3,
     "metadata": {},
     "output_type": "execute_result"
    }
   ],
   "source": [
    "\"\"\"\n",
    "개발방향\n",
    "1. 이미지 가져오기\n",
    "    - 폴더를 라벨값으로 해서 구하기\n",
    "    \n",
    "    \n",
    "    \n",
    "※ 참고 사이트\n",
    "- 얼굴 인식하여 잠금 해제\n",
    "    https://m.blog.naver.com/PostView.nhn?blogId=chandong83&logNo=221436424539&proxyReferer=https:%2F%2Fwww.google.com%2F\n",
    "    \n",
    "\"\"\""
   ]
  },
  {
   "cell_type": "code",
   "execution_count": null,
   "metadata": {},
   "outputs": [],
   "source": []
  }
 ],
 "metadata": {
  "kernelspec": {
   "display_name": "Python 3",
   "language": "python",
   "name": "python3"
  },
  "language_info": {
   "codemirror_mode": {
    "name": "ipython",
    "version": 3
   },
   "file_extension": ".py",
   "mimetype": "text/x-python",
   "name": "python",
   "nbconvert_exporter": "python",
   "pygments_lexer": "ipython3",
   "version": "3.7.7"
  }
 },
 "nbformat": 4,
 "nbformat_minor": 4
}
