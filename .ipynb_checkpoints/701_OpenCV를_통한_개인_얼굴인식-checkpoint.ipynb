{
 "cells": [
  {
   "cell_type": "code",
   "execution_count": 3,
   "metadata": {},
   "outputs": [
    {
     "data": {
      "text/plain": [
       "'#개발 '"
      ]
     },
     "execution_count": 3,
     "metadata": {},
     "output_type": "execute_result"
    }
   ],
   "source": [
    "\"\"\"\n",
    "cv2.face 에러날 경우 아래 명령어 실행\n",
    "    pip install opencv-contrib-python\n",
    "    위 명령어 실행시 에러날 경우 : https://potensj.tistory.com/73\n",
    "\n",
    "※ 참고 사이트\n",
    "- 얼굴 인식하여 잠금 해제\n",
    "    https://blog.naver.com/chandong83/221436424539\n",
    "- LBP란 무엇인가\n",
    "    https://bskyvision.com/280\n",
    "- LBPH 얼굴 인식\n",
    "    https://blog.naver.com/roboholic84/221533459586\n",
    "    \n",
    "\"\"\""
   ]
  },
  {
   "cell_type": "code",
   "execution_count": 1,
   "metadata": {},
   "outputs": [],
   "source": [
    "import cv2\n",
    "import numpy as np\n",
    "from os import listdir\n",
    "from os.path import isfile, join"
   ]
  },
  {
   "cell_type": "code",
   "execution_count": 2,
   "metadata": {},
   "outputs": [],
   "source": [
    "data_path = './98_LearningData/04_StudyData/1170120/'\n",
    "train_path = './98_LearningData/51_Learning_Data/01_OpenCv/'"
   ]
  },
  {
   "cell_type": "code",
   "execution_count": 11,
   "metadata": {},
   "outputs": [],
   "source": [
    "#모델 생성 \n",
    "model = cv2.face.LBPHFaceRecognizer_create()"
   ]
  },
  {
   "cell_type": "code",
   "execution_count": 4,
   "metadata": {},
   "outputs": [],
   "source": [
    "onlyfiles = [f for f in listdir(data_path) if isfile(join(data_path, f))]"
   ]
  },
  {
   "cell_type": "code",
   "execution_count": 5,
   "metadata": {},
   "outputs": [],
   "source": [
    "#데이터와 매칭될 라벨 변수 \n",
    "Training_Data, Labels = [], []"
   ]
  },
  {
   "cell_type": "code",
   "execution_count": 6,
   "metadata": {},
   "outputs": [],
   "source": [
    "#파일 개수 만큼 루프 \n",
    "for i, files in enumerate(onlyfiles):    \n",
    "    image_path = data_path + onlyfiles[i]\n",
    "    \n",
    "    #이미지 불러오기 \n",
    "    images = cv2.imread(image_path, cv2.IMREAD_GRAYSCALE)\n",
    "    \n",
    "    #이미지 파일이 아니거나 못 읽어 왔다면 무시\n",
    "    if images is None:\n",
    "        continue    \n",
    "        \n",
    "    #Training_Data 리스트에 이미지를 바이트 배열로 추가 \n",
    "    Training_Data.append(np.asarray(images, dtype=np.uint8))\n",
    "    \n",
    "    #Labels 리스트엔 카운트 번호 추가 \n",
    "    Labels.append(i)"
   ]
  },
  {
   "cell_type": "code",
   "execution_count": 7,
   "metadata": {},
   "outputs": [],
   "source": [
    "#훈련할 데이터가 없다면 종료.\n",
    "if len(Labels) == 0:\n",
    "    print(\"There is no data to train.\")\n",
    "    exit()"
   ]
  },
  {
   "cell_type": "code",
   "execution_count": 10,
   "metadata": {},
   "outputs": [
    {
     "name": "stdout",
     "output_type": "stream",
     "text": [
      "Model Training Complete!!!!!\n"
     ]
    }
   ],
   "source": [
    "#Labels를 32비트 정수로 변환\n",
    "Labels = np.asarray(Labels, dtype=np.int32)\n",
    "\n",
    "\n",
    "#학습한 파일이 있는지 체크\n",
    "if isfile(join(train_path,'1170120.yml')):\n",
    "    model.read(join(train_path,'1170120.yml'))\n",
    "#학습한 파일이 없을 경우\n",
    "else:\n",
    "    #학습 시작 \n",
    "    model.train(np.asarray(Training_Data), np.asarray(Labels))\n",
    "    #학습 저장\n",
    "    model.save(\"./98_LearningData/51_Learning_Data/01_OpenCv/1170120.yml\")\n",
    "print(\"Model Training Complete!!!!!\")"
   ]
  },
  {
   "cell_type": "code",
   "execution_count": 11,
   "metadata": {},
   "outputs": [],
   "source": [
    "face_cascades = cv2.CascadeClassifier('./98_LearningData/00_haarcascades/haarcascade_frontalface_default.xml')\n",
    "eye_cascades = cv2.CascadeClassifier('./98_LearningData/00_haarcascades/haarcascade_lefteye_2splits.xml')"
   ]
  },
  {
   "cell_type": "code",
   "execution_count": 25,
   "metadata": {},
   "outputs": [],
   "source": [
    "def face_detector(img, size = 0.5):\n",
    "    #이미지를 흑백으로 변경\n",
    "    grayscale_img = cv2.cvtColor(img, cv2.COLOR_BGR2GRAY)\n",
    "    \n",
    "    #얼굴 검출\n",
    "    faces = face_cascades.detectMultiScale(grayscale_img, scaleFactor=1.1, minNeighbors=5, minSize=(100,100), flags=cv2.CASCADE_SCALE_IMAGE)\n",
    "    \n",
    "    if faces is():\n",
    "        return img,[]\n",
    "    \n",
    "    for(x,y,w,h) in faces:\n",
    "        #눈을 추려내기 위해서 이미지 크롭\n",
    "        img_trim = img[y:y+h, x:x+w]\n",
    "        \n",
    "        #눈 추려내기\n",
    "        eye_list = eye_cascades.detectMultiScale(img_trim,scaleFactor = 1.15, minNeighbors=1,minSize=(10,10))\n",
    "        \n",
    "        #눈이 있으면서 2개 이상)\n",
    "        if len(eye_list) >= 2:\n",
    "            #얼굴에 네모 표기하기\n",
    "            cv2.rectangle(img, (x,y),(x+w,y+h),(0,255,255),2)\n",
    "\n",
    "            #눈에 네모 표기 하기(눈에표기하면 인식 안됨 네모도 얼굴의 일부로 인식)\n",
    "            #for eye in eye_list:\n",
    "                #eyeX,eyeY,eyeW,eyeH = eye\n",
    "                #cv2.rectangle(img, (eyeX + x, eyeY + y), (eyeX + eyeW + x, eyeY + eyeH + y), (0, 255, 0), thickness=8)\n",
    "\n",
    "            roi = img[y:y+h, x:x+w]\n",
    "            roi = cv2.resize(roi, (200,200))\n",
    "        else:\n",
    "            return img,[]\n",
    "    return img,roi   #검출된 좌표에 사각 박스 그리고(img), 검출된 부위를 잘라(roi) 전달"
   ]
  },
  {
   "cell_type": "code",
   "execution_count": 26,
   "metadata": {},
   "outputs": [],
   "source": [
    "#카메라 열기 \n",
    "cap = cv2.VideoCapture(0)\n",
    "\n",
    "while True:\n",
    "    #카메라로 부터 사진 한장 읽기 \n",
    "    ret, frame = cap.read()\n",
    "    # 얼굴 검출 시도 \n",
    "    image, face = face_detector(frame)\n",
    "    try:\n",
    "        #검출된 사진을 흑백으로 변환 \n",
    "        face = cv2.cvtColor(face, cv2.COLOR_BGR2GRAY)\n",
    "        #위에서 학습한 모델로 예측시도\n",
    "        result = model.predict(face)\n",
    "        #result[1]은 신뢰도이고 0에 가까울수록 자신과 같다는 뜻이다. \n",
    "        if result[1] < 500:\n",
    "            #????? 어쨋든 0~100표시하려고 한듯 \n",
    "            confidence = int(100*(1-(result[1])/300))\n",
    "            # 유사도 화면에 표시 \n",
    "            display_string = str(confidence)+'% Confidence it is user'\n",
    "        cv2.putText(image,display_string,(100,120), cv2.FONT_HERSHEY_COMPLEX,1,(250,120,255),2)\n",
    "        #77 보다 크면 동일 인물로 간주해 UnLocked! \n",
    "        if confidence > 75:\n",
    "            cv2.putText(image, \"Unlocked\", (250, 450), cv2.FONT_HERSHEY_COMPLEX, 1, (0, 255, 0), 2)\n",
    "            cv2.imshow('Face Cropper', image)\n",
    "        else:\n",
    "           #75 이하면 타인.. Locked!!! \n",
    "            cv2.putText(image, \"Locked\", (250, 450), cv2.FONT_HERSHEY_COMPLEX, 1, (0, 0, 255), 2)\n",
    "            cv2.imshow('Face Cropper', image)\n",
    "    except:\n",
    "        #얼굴 검출 안됨 \n",
    "        cv2.putText(image, \"Face Not Found\", (250, 450), cv2.FONT_HERSHEY_COMPLEX, 1, (255, 0, 0), 2)\n",
    "        cv2.imshow('Face Cropper', image)\n",
    "        pass\n",
    "    if cv2.waitKey(1)==13:\n",
    "        break\n",
    "cap.release()\n",
    "cv2.destroyAllWindows()"
   ]
  },
  {
   "cell_type": "code",
   "execution_count": null,
   "metadata": {},
   "outputs": [],
   "source": []
  }
 ],
 "metadata": {
  "kernelspec": {
   "display_name": "Python 3",
   "language": "python",
   "name": "python3"
  },
  "language_info": {
   "codemirror_mode": {
    "name": "ipython",
    "version": 3
   },
   "file_extension": ".py",
   "mimetype": "text/x-python",
   "name": "python",
   "nbconvert_exporter": "python",
   "pygments_lexer": "ipython3",
   "version": "3.7.5"
  }
 },
 "nbformat": 4,
 "nbformat_minor": 4
}
