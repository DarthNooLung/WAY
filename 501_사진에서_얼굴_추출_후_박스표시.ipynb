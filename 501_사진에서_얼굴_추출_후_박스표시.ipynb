{
 "cells": [
  {
   "cell_type": "code",
   "execution_count": null,
   "metadata": {},
   "outputs": [],
   "source": [
    "#사람 얼굴 추출 하는 참고 사이트\n",
    "#https://studychfhd.tistory.com/230"
   ]
  },
  {
   "cell_type": "code",
   "execution_count": 29,
   "metadata": {},
   "outputs": [],
   "source": [
    "import cv2"
   ]
  },
  {
   "cell_type": "code",
   "execution_count": 30,
   "metadata": {},
   "outputs": [],
   "source": [
    "#정면 얼굴 추출하는 방법\n",
    "face_cascades = cv2.CascadeClassifier('./98_LearningData/00_haarcascades/haarcascade_frontalface_default.xml')"
   ]
  },
  {
   "cell_type": "code",
   "execution_count": 40,
   "metadata": {},
   "outputs": [],
   "source": [
    "def detect_faces(img, draw_box=True):\n",
    "        #이미지를 흑백으로 변경\n",
    "        grayscale_img = cv2.cvtColor(img, cv2.COLOR_BGR2GRAY)\n",
    "        \n",
    "        #얼굴 검출\n",
    "        faces = face_cascades.detectMultiScale(grayscale_img, scaleFactor=1.1, \n",
    "                                               minNeighbors=5, \n",
    "                                               minSize=(100,100), \n",
    "                                               flags=cv2.CASCADE_SCALE_IMAGE)\n",
    "        \n",
    "        face_box, face_coords = None, []\n",
    "        \n",
    "        #검출한 얼굴 주위에 테두리를 그린다\n",
    "        for(x, y, width, height) in faces:\n",
    "            if draw_box:\n",
    "                cv2.rectangle(img, (x, y), (x+width, y+height), (0, 255, 0), 5)\n",
    "            face_box = img[y:height, x:x+width]\n",
    "            face_coords = [x,y,width,height]\n",
    "        return img, face_box, face_coords"
   ]
  },
  {
   "cell_type": "code",
   "execution_count": 41,
   "metadata": {},
   "outputs": [],
   "source": [
    "import os"
   ]
  },
  {
   "cell_type": "code",
   "execution_count": 42,
   "metadata": {},
   "outputs": [],
   "source": [
    "files = os.listdir('./98_LearningData/01_Origin')\n",
    "images = [file for file in files if 'jpg' in file]"
   ]
  },
  {
   "cell_type": "code",
   "execution_count": 43,
   "metadata": {},
   "outputs": [],
   "source": [
    "for image in images:\n",
    "        img = cv2.imread('./98_LearningData/01_Origin/' + image)\n",
    "        detected_faces, _, _ = detect_faces(img)\n",
    "        cv2.imwrite('./98_LearningData/02_Target/' + image, detected_faces)"
   ]
  },
  {
   "cell_type": "code",
   "execution_count": null,
   "metadata": {},
   "outputs": [],
   "source": []
  }
 ],
 "metadata": {
  "kernelspec": {
   "display_name": "Python 3",
   "language": "python",
   "name": "python3"
  },
  "language_info": {
   "codemirror_mode": {
    "name": "ipython",
    "version": 3
   },
   "file_extension": ".py",
   "mimetype": "text/x-python",
   "name": "python",
   "nbconvert_exporter": "python",
   "pygments_lexer": "ipython3",
   "version": "3.7.7"
  }
 },
 "nbformat": 4,
 "nbformat_minor": 4
}
